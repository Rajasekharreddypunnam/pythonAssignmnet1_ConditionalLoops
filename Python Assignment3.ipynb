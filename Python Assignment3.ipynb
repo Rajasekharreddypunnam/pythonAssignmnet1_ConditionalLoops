{
 "cells": [
  {
   "cell_type": "code",
   "execution_count": 6,
   "id": "c2da1cc1",
   "metadata": {},
   "outputs": [
    {
     "name": "stdout",
     "output_type": "stream",
     "text": [
      "10\n"
     ]
    }
   ],
   "source": [
    "\"\"\" Write a Python Program to implement your own myreduce() function which works exactly \n",
    "like Python's built-in function reduce()\n",
    "\"\"\"\n",
    "# Actual usage of reduce example:\n",
    "\n",
    "from functools import reduce\n",
    "nums = [1,2,3,4]\n",
    "ans = reduce(lambda x,y:x+y,nums)\n",
    "print(ans)"
   ]
  },
  {
   "cell_type": "code",
   "execution_count": 10,
   "id": "8941ff12",
   "metadata": {},
   "outputs": [
    {
     "name": "stdout",
     "output_type": "stream",
     "text": [
      "10\n"
     ]
    }
   ],
   "source": [
    "# Code Snippet with out using reduce function.\n",
    "sum = 0\n",
    "for i in range(0,len(nums)):\n",
    "    sum = sum + nums[i]\n",
    "print(sum)\n",
    "\n",
    "# Time Complexity: O(n), space compelxity: O(1)"
   ]
  },
  {
   "cell_type": "code",
   "execution_count": 12,
   "id": "e103e1dd",
   "metadata": {},
   "outputs": [
    {
     "data": {
      "text/plain": [
       "[2, 4, 6, 8, 5678, 890, 1234]"
      ]
     },
     "execution_count": 12,
     "metadata": {},
     "output_type": "execute_result"
    }
   ],
   "source": [
    "\"\"\"\n",
    "Write a Python program to implement your own myfilter() function which works exactly\n",
    "like Python's built-in function filter()\n",
    "\"\"\"\n",
    "# USing inbuilt filter example:\n",
    "def is_even(a):\n",
    "    if a%2==0:\n",
    "        return True\n",
    "list_1=[2,3,4,5,6,7,8,9,12345,5678,890,1234,567]\n",
    "list(filter(is_even,list_1))"
   ]
  },
  {
   "cell_type": "code",
   "execution_count": 15,
   "id": "14ac3a2b",
   "metadata": {},
   "outputs": [
    {
     "name": "stdout",
     "output_type": "stream",
     "text": [
      "[2, 4, 6, 8, 10]\n"
     ]
    }
   ],
   "source": [
    "# Code with out using inbuilt filter:\n",
    "def myfilter(is_even,list_2):\n",
    "    return is_even(list_2)\n",
    "list_2=[2,3,4,5,6,7,8,9,10]\n",
    "list_3=[]\n",
    "def is_even(list_2):\n",
    "    for i in list_2:\n",
    "        if i%2==0:\n",
    "            list_3.append(i)\n",
    "    print(list_3)\n",
    "myfilter(is_even,list_2)"
   ]
  },
  {
   "cell_type": "code",
   "execution_count": 16,
   "id": "ef411ada",
   "metadata": {},
   "outputs": [],
   "source": [
    "# List Comprehension Examples:\n",
    "#['x', 'xx', 'xxx', 'xxxx', 'y', 'yy', 'yyy', 'yyyy', 'z', 'zz', 'zzz', 'zzzz']\n",
    "#['x', 'y', 'z', 'xx', 'yy', 'zz', 'xxx', 'yyy', 'zzz', 'xxxx', 'yyyy', 'zzzz']\n",
    "#[[2], [3], [4], [3], [4], [5], [4], [5], [6]] [[2, 3, 4, 5], [3, 4, 5, 6],\n",
    "#[4, 5, 6, 7], [5, 6, 7, 8]]\n",
    "#[(1, 1), (2, 1), (3, 1), (1, 2), (2, 2), (3, 2), (1, 3), (2, 3), (3, 3)]"
   ]
  },
  {
   "cell_type": "code",
   "execution_count": 122,
   "id": "6f5e63df",
   "metadata": {},
   "outputs": [
    {
     "data": {
      "text/plain": [
       "[(1, 1), (2, 1), (3, 1), (1, 2), (2, 2), (3, 2), (1, 3), (2, 3), (3, 3)]"
      ]
     },
     "execution_count": 122,
     "metadata": {},
     "output_type": "execute_result"
    }
   ],
   "source": [
    "# code using list comprehension for all the above mentioned output's.\n",
    "[  char * num   for char in ['x','y','z'] for num in range(1,5)]\n",
    "[char * num for num in range(1,5) for char in ['x','y','z']]\n",
    "[[x+y] for x in range(2,5) for y in range(3)]\n",
    "[[x+y] for x in range(2,6) for y in range(4)]\n",
    "[(num1,num) for num in range(1,4) for num1 in [1,2,3] ]"
   ]
  },
  {
   "cell_type": "markdown",
   "id": "5e387ecf",
   "metadata": {},
   "source": [
    "# code For my Understanding:"
   ]
  },
  {
   "cell_type": "code",
   "execution_count": 78,
   "id": "e1885432",
   "metadata": {},
   "outputs": [
    {
     "name": "stdout",
     "output_type": "stream",
     "text": [
      "a is: x\n",
      "a is: xx\n",
      "a is: xxx\n",
      "a is: xxxx\n",
      "a is: y\n",
      "a is: yy\n",
      "a is: yyy\n",
      "a is: yyyy\n",
      "a is: z\n",
      "a is: zz\n",
      "a is: zzz\n",
      "a is: zzzz\n"
     ]
    }
   ],
   "source": [
    "# code with out using list comprehension.\n",
    "# #['x', 'y', 'z', 'xx', 'yy', 'zz', 'xxx', 'yyy', 'zzz', 'xxxx', 'yyyy', 'zzzz']\n",
    "alphabets=['x','y','z']\n",
    "i=5\n",
    "lst=[]\n",
    "for char in alphabets:\n",
    "    for num in range(1,i):\n",
    "        print(\"a is:\",char*num)"
   ]
  },
  {
   "cell_type": "code",
   "execution_count": 80,
   "id": "ca0222e5",
   "metadata": {},
   "outputs": [
    {
     "data": {
      "text/plain": [
       "['x', 'y', 'z', 'xx', 'yy', 'zz', 'xxx', 'yyy', 'zzz', 'xxxx', 'yyyy', 'zzzz']"
      ]
     },
     "execution_count": 80,
     "metadata": {},
     "output_type": "execute_result"
    }
   ],
   "source": [
    "[char * num for num in range(1,5) for char in ['x','y','z']]"
   ]
  },
  {
   "cell_type": "code",
   "execution_count": 79,
   "id": "ea13f73b",
   "metadata": {},
   "outputs": [
    {
     "name": "stdout",
     "output_type": "stream",
     "text": [
      "a is: x\n",
      "a is: y\n",
      "a is: z\n",
      "a is: xx\n",
      "a is: yy\n",
      "a is: zz\n",
      "a is: xxx\n",
      "a is: yyy\n",
      "a is: zzz\n",
      "a is: xxxx\n",
      "a is: yyyy\n",
      "a is: zzzz\n"
     ]
    }
   ],
   "source": [
    "# code with out using list comprehension.\n",
    "# #['x', 'y', 'z', 'xx', 'yy', 'zz', 'xxx', 'yyy', 'zzz', 'xxxx', 'yyyy', 'zzzz']\n",
    "alphabets=['x','y','z']\n",
    "i=5\n",
    "lst=[]\n",
    "for num in range(1,i):\n",
    "    for char in alphabets:\n",
    "        print(\"a is:\",char*num)"
   ]
  },
  {
   "cell_type": "code",
   "execution_count": 81,
   "id": "a5b85937",
   "metadata": {},
   "outputs": [],
   "source": [
    "#[[2], [3], [4], [3], [4], [5], [4], [5], [6]] [[2, 3, 4, 5], [3, 4, 5, 6],[4, 5, 6, 7], [5, 6, 7, 8]]"
   ]
  },
  {
   "cell_type": "code",
   "execution_count": 116,
   "id": "96fc93b9",
   "metadata": {},
   "outputs": [
    {
     "data": {
      "text/plain": [
       "[[2], [3], [4], [3], [4], [5], [4], [5], [6]]"
      ]
     },
     "execution_count": 116,
     "metadata": {},
     "output_type": "execute_result"
    }
   ],
   "source": [
    "[[x+y] for x in range(2,5) for y in range(3)]"
   ]
  },
  {
   "cell_type": "code",
   "execution_count": 121,
   "id": "91653ade",
   "metadata": {},
   "outputs": [
    {
     "data": {
      "text/plain": [
       "[[2],\n",
       " [3],\n",
       " [4],\n",
       " [5],\n",
       " [3],\n",
       " [4],\n",
       " [5],\n",
       " [6],\n",
       " [4],\n",
       " [5],\n",
       " [6],\n",
       " [7],\n",
       " [5],\n",
       " [6],\n",
       " [7],\n",
       " [8]]"
      ]
     },
     "execution_count": 121,
     "metadata": {},
     "output_type": "execute_result"
    }
   ],
   "source": [
    "[[x+y] for x in range(2,6) for y in range(4)]"
   ]
  },
  {
   "cell_type": "code",
   "execution_count": 114,
   "id": "b35726b3",
   "metadata": {},
   "outputs": [
    {
     "data": {
      "text/plain": [
       "[(1, 1), (2, 1), (3, 1), (1, 2), (2, 2), (3, 2), (1, 3), (2, 3), (3, 3)]"
      ]
     },
     "execution_count": 114,
     "metadata": {},
     "output_type": "execute_result"
    }
   ],
   "source": [
    "# [(1, 1), (2, 1), (3, 1), (1, 2), (2, 2), (3, 2), (1, 3), (2, 3), (3, 3)]\n",
    "[(num1,num) for num in range(1,4) for num1 in [1,2,3] ]"
   ]
  },
  {
   "cell_type": "code",
   "execution_count": null,
   "id": "89ec0e75",
   "metadata": {},
   "outputs": [],
   "source": []
  },
  {
   "cell_type": "code",
   "execution_count": null,
   "id": "de3aa493",
   "metadata": {},
   "outputs": [],
   "source": []
  }
 ],
 "metadata": {
  "kernelspec": {
   "display_name": "Python 3",
   "language": "python",
   "name": "python3"
  },
  "language_info": {
   "codemirror_mode": {
    "name": "ipython",
    "version": 3
   },
   "file_extension": ".py",
   "mimetype": "text/x-python",
   "name": "python",
   "nbconvert_exporter": "python",
   "pygments_lexer": "ipython3",
   "version": "3.8.8"
  }
 },
 "nbformat": 4,
 "nbformat_minor": 5
}
