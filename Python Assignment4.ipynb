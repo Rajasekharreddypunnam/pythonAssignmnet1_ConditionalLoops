{
 "cells": [
  {
   "cell_type": "code",
   "execution_count": 87,
   "id": "da5a9695",
   "metadata": {},
   "outputs": [
    {
     "name": "stdout",
     "output_type": "stream",
     "text": [
      "Enter side of a triangle:10\n",
      "Enter a value:1\n",
      "Enter b value:2\n",
      "Enter c value:1\n"
     ]
    }
   ],
   "source": [
    "class Person:\n",
    "  def __init__(self, side,a,b,c):\n",
    "    self.side = side\n",
    "    self.a=a\n",
    "    self.b=b\n",
    "    self.c=c\n",
    "\n",
    "#Use the Person class to create an object, and then execute the printname method:\n",
    "\n",
    "side = int(input(\"Enter side of a triangle:\"))\n",
    "a=int(input(\"Enter a value:\"))\n",
    "b=int(input(\"Enter b value:\"))\n",
    "c=int(input(\"Enter c value:\"))"
   ]
  },
  {
   "cell_type": "code",
   "execution_count": 88,
   "id": "63726881",
   "metadata": {},
   "outputs": [
    {
     "name": "stdout",
     "output_type": "stream",
     "text": [
      "80.49844718999243\n"
     ]
    }
   ],
   "source": [
    "class Student(Person):\n",
    "    area = (side*(side-a)*(side-b)*(side-c)) ** 0.5\n",
    "    print(area)"
   ]
  },
  {
   "cell_type": "code",
   "execution_count": 89,
   "id": "5133011e",
   "metadata": {},
   "outputs": [],
   "source": [
    "#Write a function filter_long_words() that takes a list of words and an integer n and returns\n",
    "# the list of words that are longer than n."
   ]
  },
  {
   "cell_type": "code",
   "execution_count": 95,
   "id": "12c1fe01",
   "metadata": {},
   "outputs": [
    {
     "data": {
      "text/plain": [
       "['ineuron is becoming popular', 'ineuron became popular']"
      ]
     },
     "execution_count": 95,
     "metadata": {},
     "output_type": "execute_result"
    }
   ],
   "source": [
    "lst = [\"ineuron is unknown\",\"ineuron is becoming popular\",\"ineuron became popular\"]\n",
    "n = 20\n",
    "lst1=[]\n",
    "def filter_long_words(lst,n):\n",
    "    for word in lst:\n",
    "        if(len(word)>n):\n",
    "            lst1.append(word)\n",
    "    return lst1\n",
    "\n",
    "filter_long_words(lst,n)        \n",
    "\n",
    "# Space Complexity O(n2)"
   ]
  },
  {
   "cell_type": "code",
   "execution_count": 99,
   "id": "fbe5b8c1",
   "metadata": {},
   "outputs": [
    {
     "name": "stdout",
     "output_type": "stream",
     "text": [
      "[2, 3, 4]\n"
     ]
    }
   ],
   "source": [
    "\"\"\"2.1 Write a Python program using function concept that maps list of words into a list of integers\n",
    "representing the lengths of the corresponding words.\n",
    "Hint: If a list [ ab,cde,erty] is passed on to the python function output should come as [2,3,4]\n",
    "Here 2,3 and 4 are the lengths of the words in the list.\n",
    "\"\"\"\n",
    "lst= [\"ab\",\"cde\",\"erty\"]\n",
    "lst1=[]\n",
    "for word in lst:\n",
    "    lst1.append(len(word))\n",
    "print(lst1)"
   ]
  },
  {
   "cell_type": "code",
   "execution_count": null,
   "id": "2e6ddd17",
   "metadata": {},
   "outputs": [],
   "source": [
    "\"\"\"2.2 Write a Python function which takes a character (i.e. a string of length 1) and returns True if\n",
    "it is a vowel, False otherwise.\n",
    "\"\"\""
   ]
  },
  {
   "cell_type": "code",
   "execution_count": 103,
   "id": "59d667c5",
   "metadata": {},
   "outputs": [
    {
     "name": "stdout",
     "output_type": "stream",
     "text": [
      "Enter a character:p\n"
     ]
    },
    {
     "data": {
      "text/plain": [
       "False"
      ]
     },
     "execution_count": 103,
     "metadata": {},
     "output_type": "execute_result"
    }
   ],
   "source": [
    "char = input(\"Enter a character:\")\n",
    "def check_vowel(char):\n",
    "    if char in ['a','e','i','o','u']:\n",
    "        return True\n",
    "    else:\n",
    "        return False\n",
    "check_vowel(char)"
   ]
  },
  {
   "cell_type": "code",
   "execution_count": null,
   "id": "cfd95bd5",
   "metadata": {},
   "outputs": [],
   "source": []
  }
 ],
 "metadata": {
  "kernelspec": {
   "display_name": "Python 3",
   "language": "python",
   "name": "python3"
  },
  "language_info": {
   "codemirror_mode": {
    "name": "ipython",
    "version": 3
   },
   "file_extension": ".py",
   "mimetype": "text/x-python",
   "name": "python",
   "nbconvert_exporter": "python",
   "pygments_lexer": "ipython3",
   "version": "3.8.8"
  }
 },
 "nbformat": 4,
 "nbformat_minor": 5
}
