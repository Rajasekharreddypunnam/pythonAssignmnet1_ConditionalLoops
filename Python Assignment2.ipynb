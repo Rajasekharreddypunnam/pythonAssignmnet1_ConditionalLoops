{
 "cells": [
  {
   "cell_type": "code",
   "execution_count": 3,
   "id": "be69f7f1",
   "metadata": {},
   "outputs": [
    {
     "name": "stdout",
     "output_type": "stream",
     "text": [
      "\n",
      "* \n",
      "* * \n",
      "* * * \n",
      "* * * * \n",
      "* * * * * \n",
      "* * * * \n",
      "* * * \n",
      "* * \n",
      "* \n",
      "\n"
     ]
    }
   ],
   "source": [
    "# Pattern Program.\n",
    "rows = 7\n",
    "for i in range(1,rows):\n",
    "    for j in range(1,i):\n",
    "        print('*',end=\" \")\n",
    "    print(\"\")\n",
    "rows1 = 4\n",
    "for i in range(0, rows1 + 1):\n",
    "    for j in range(rows1 - i, 0, -1):\n",
    "        print('*', end=' ')\n",
    "    print()"
   ]
  },
  {
   "cell_type": "code",
   "execution_count": 1,
   "id": "2ef1df0d",
   "metadata": {},
   "outputs": [
    {
     "name": "stdout",
     "output_type": "stream",
     "text": [
      "Enter input string name:Ineuron\n"
     ]
    }
   ],
   "source": [
    "input_str = input(\"Enter input string name:\")\n",
    "def reverse(str):\n",
    "    str = str[::-1]\n",
    "    return str"
   ]
  },
  {
   "cell_type": "code",
   "execution_count": 2,
   "id": "3787c12b",
   "metadata": {},
   "outputs": [
    {
     "name": "stdout",
     "output_type": "stream",
     "text": [
      "The reversed string using extended slice operator  is :  noruenI\n"
     ]
    }
   ],
   "source": [
    "print (\"The reversed string using extended slice operator  is : \",reverse(input_str))  "
   ]
  },
  {
   "cell_type": "code",
   "execution_count": null,
   "id": "40c198dd",
   "metadata": {},
   "outputs": [],
   "source": []
  }
 ],
 "metadata": {
  "kernelspec": {
   "display_name": "Python 3",
   "language": "python",
   "name": "python3"
  },
  "language_info": {
   "codemirror_mode": {
    "name": "ipython",
    "version": 3
   },
   "file_extension": ".py",
   "mimetype": "text/x-python",
   "name": "python",
   "nbconvert_exporter": "python",
   "pygments_lexer": "ipython3",
   "version": "3.8.8"
  }
 },
 "nbformat": 4,
 "nbformat_minor": 5
}
